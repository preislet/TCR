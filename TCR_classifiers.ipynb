{
 "cells": [
  {
   "cell_type": "code",
   "execution_count": 1,
   "metadata": {},
   "outputs": [],
   "source": [
    "import warnings\n",
    "warnings.filterwarnings(\"ignore\")\n",
    "\n",
    "from copy import deepcopy\n",
    "import pandas as pd\n",
    "import numpy as np\n",
    "import plotly.express as px\n",
    "import pickle\n",
    "\n",
    "from sklearn.model_selection import train_test_split\n",
    "from sklearn.preprocessing import StandardScaler, PolynomialFeatures\n",
    "from sklearn.pipeline import Pipeline\n",
    "from sklearn.linear_model import LogisticRegression\n",
    "from sklearn.metrics import accuracy_score, classification_report\n",
    "from sklearn.metrics import confusion_matrix\n",
    "\n",
    "from sklearn.ensemble import (\n",
    "    VotingClassifier,\n",
    "    RandomForestClassifier,\n",
    "    AdaBoostClassifier,\n",
    "    GradientBoostingClassifier\n",
    ")\n",
    "from sklearn.neighbors import KNeighborsClassifier\n",
    "from sklearn.neural_network import MLPClassifier\n",
    "from sklearn.tree import DecisionTreeClassifier\n",
    "\n",
    "import plotly.graph_objects as go\n"
   ]
  },
  {
   "cell_type": "markdown",
   "metadata": {},
   "source": [
    "# Make datasets"
   ]
  },
  {
   "cell_type": "code",
   "execution_count": 2,
   "metadata": {},
   "outputs": [],
   "source": [
    "class Dataset:\n",
    "    def __init__(self, data, target):\n",
    "        self.data = data\n",
    "        self.target = target"
   ]
  },
  {
   "cell_type": "code",
   "execution_count": 3,
   "metadata": {},
   "outputs": [],
   "source": [
    "# Assume that we alread have the data in a pickle file in backup folder\n",
    "file = 'backup/category_dfs_VJ_region_frequency.pkl'\n",
    "with open(file, 'rb') as file:\n",
    "    data_dfs: dict = pickle.load(file)\n",
    "\n",
    "# top 50 regions for each category\n",
    "all_regions = []\n",
    "for _, df in data_dfs.items():\n",
    "    df = df.sort_values(by='output', ascending=False).head(50)\n",
    "    regions = df['VJ_region'].values\n",
    "    all_regions.extend(regions)\n",
    "\n",
    "all_regions = list(set(all_regions))"
   ]
  },
  {
   "cell_type": "code",
   "execution_count": 4,
   "metadata": {},
   "outputs": [],
   "source": [
    "# Assume that we alread have VJ dependent data in TCR_DATASETS and file TCR_load.py\n",
    "\n",
    "from TCR_DATASETS.TCR_load import load_tcr_data\n",
    "\"\"\"\n",
    "if we dont have TCR_load.py, we can use the following code to load the data:\n",
    "\n",
    "VJ_DEPENDENT = 'TCR_sequencing_hedimed_DATASET_VJ_dependent.csv'\n",
    "Base_columns = {\n",
    "    \"patient_id\": str,\n",
    "    \"clonotype_sequence\": str,\n",
    "    \"specific_seq_count\": int,\n",
    "    \"ratio\": float,\n",
    "    \"category\": str\n",
    "}\n",
    "VJ_DEPENDENT_COLUMNS = Base_columns.copy()\n",
    "VJ_DEPENDENT_COLUMNS[\"V_region\"] = str\n",
    "VJ_DEPENDENT_COLUMNS[\"J_region\"] = str\n",
    "data_sources = { 'VJ_DEPENDENT': (VJ_DEPENDENT, VJ_DEPENDENT_COLUMNS)}\n",
    "\n",
    "file_path, columns = data_sources[VJ_DEPENDENT]\n",
    "data_df = pd.read_csv(file_path, dtype=columns, usecols=columns.keys())\n",
    "\"\"\"\n",
    "\n",
    "data_df = load_tcr_data(\"VJ_DEPENDENT\")\n",
    "data_df[\"VJ_region\"] = data_df[\"V_region\"] + \"_\" + data_df[\"J_region\"]\n",
    "data_df = data_df.drop(columns=[\"V_region\", \"J_region\", \"clonotype_sequence\"])\n",
    "\n",
    "\n",
    "# Count the number of sequences for each patient\n",
    "patients_sequence_count = data_df.groupby([\"patient_id\"]).agg({\"specific_seq_count\": \"sum\"}).reset_index()\n"
   ]
  },
  {
   "cell_type": "code",
   "execution_count": 5,
   "metadata": {},
   "outputs": [],
   "source": [
    "# count the frequency of each VJ region in the top 50 regions for each category\n",
    "data_df = data_df.groupby([\"patient_id\", \"category\", \"VJ_region\"]).agg({\"ratio\": \"sum\", \"specific_seq_count\": \"sum\"}).reset_index()\n",
    "\n",
    "# Keep only the top 50 regions\n",
    "data_df = data_df[data_df[\"VJ_region\"].isin(all_regions)]\n",
    "\n",
    "# Normalize the data\n",
    "for category in data_df[\"category\"].unique():\n",
    "    category_df = data_df[data_df[\"category\"] == category]\n",
    "    category_df[\"ratio\"] = category_df[\"ratio\"]\n",
    "    category_df[\"specific_seq_count\"] = category_df[\"specific_seq_count\"] \n",
    "    data_df.loc[data_df[\"category\"] == category, \"ratio\"] = category_df[\"ratio\"]\n",
    "    data_df.loc[data_df[\"category\"] == category, \"specific_seq_count\"] = category_df[\"specific_seq_count\"]\n"
   ]
  },
  {
   "cell_type": "code",
   "execution_count": 6,
   "metadata": {},
   "outputs": [],
   "source": [
    "# make dataframe. Each row is a patient, and each column is a VJ region\n",
    "dataset_freq = pd.DataFrame()\n",
    "dataset_freq[\"patient_id\"] = data_df[\"patient_id\"].unique()\n",
    "\n",
    "# add the category column to the dataset based on the patient_id\n",
    "dataset_freq[all_regions] = 0\n",
    "dataset_freq[\"category\"] = dataset_freq[\"patient_id\"].apply(lambda x: data_df[data_df[\"patient_id\"] == x][\"category\"].values[0])\n",
    "\n",
    "# fill the dataset with the frequency of each VJ region\n",
    "for patient_id in dataset_freq[\"patient_id\"]:\n",
    "    patient_df = data_df[data_df[\"patient_id\"] == patient_id]\n",
    "    for _, row in patient_df.iterrows():\n",
    "        dataset_freq.loc[dataset_freq[\"patient_id\"] == patient_id, row[\"VJ_region\"]] = row[\"ratio\"]"
   ]
  },
  {
   "cell_type": "code",
   "execution_count": 7,
   "metadata": {},
   "outputs": [],
   "source": [
    "# dataset sum\n",
    "\n",
    "dataset_sum = pd.DataFrame()\n",
    "dataset_sum[\"patient_id\"] = data_df[\"patient_id\"].unique()\n",
    "dataset_sum[all_regions] = 0\n",
    "dataset_sum[\"category\"] = dataset_sum[\"patient_id\"].apply(lambda x: data_df[data_df[\"patient_id\"] == x][\"category\"].values[0])\n",
    "\n",
    "for patient_id in dataset_sum[\"patient_id\"]:\n",
    "    patient_df = data_df[data_df[\"patient_id\"] == patient_id]\n",
    "    for _, row in patient_df.iterrows():\n",
    "        dataset_sum.loc[dataset_sum[\"patient_id\"] == patient_id, row[\"VJ_region\"]] = row[\"specific_seq_count\"]"
   ]
  },
  {
   "cell_type": "markdown",
   "metadata": {},
   "source": [
    "## Dataset preprocessing"
   ]
  },
  {
   "cell_type": "code",
   "execution_count": 8,
   "metadata": {},
   "outputs": [],
   "source": [
    "# shuffle the dataset\n",
    "dataset_freq = dataset_freq.sample(frac=1, random_state=42).reset_index(drop=True)\n",
    "dataset_sum = dataset_sum.sample(frac=1, random_state=42).reset_index(drop=True)"
   ]
  },
  {
   "cell_type": "markdown",
   "metadata": {},
   "source": [
    "### Normalization\n",
    "dataset_sum will be only binned"
   ]
  },
  {
   "cell_type": "code",
   "execution_count": 9,
   "metadata": {},
   "outputs": [],
   "source": [
    "# sum the frequency of each VJ region for each patient and print\n",
    "dataset_freq[\"sum\"] = dataset_freq[all_regions].sum(axis=1)\n",
    "\n",
    "\n",
    "# transform the frequency to percentage\n",
    "dataset_freq[all_regions] = dataset_freq[all_regions].div(dataset_freq[\"sum\"], axis=0)\n",
    "# drop the sum column\n",
    "dataset_freq = dataset_freq.drop(columns=[\"sum\"])"
   ]
  },
  {
   "cell_type": "markdown",
   "metadata": {},
   "source": [
    "### Binning"
   ]
  },
  {
   "cell_type": "code",
   "execution_count": 10,
   "metadata": {},
   "outputs": [],
   "source": [
    "datasets = [dataset_freq, dataset_sum]\n",
    "num_bins = 500\n",
    "\n",
    "for dataset in datasets:\n",
    "    max_value = dataset[all_regions].max().max()\n",
    "    bins = np.linspace(0, max_value, num_bins) # create bins\n",
    "\n",
    "    # digitize the data = put the data in bins\n",
    "    dataset[all_regions] = np.digitize(dataset[all_regions], bins) \n"
   ]
  },
  {
   "cell_type": "markdown",
   "metadata": {},
   "source": [
    "### Make class Dataset"
   ]
  },
  {
   "cell_type": "code",
   "execution_count": 11,
   "metadata": {},
   "outputs": [],
   "source": [
    "d_f= Dataset(\n",
    "    data = dataset_freq.drop(columns=[\"patient_id\", \"category\"]),\n",
    "    target = dataset_freq[\"category\"]\n",
    ")\n",
    "\n",
    "d_s = Dataset(\n",
    "    data = dataset_sum.drop(columns=[\"patient_id\", \"category\"]),\n",
    "    target = dataset_sum[\"category\"]\n",
    ")\n",
    "\n",
    "# make dataset without category: Enterovirus infection\n",
    "dataset_freq_no_enterovirus = deepcopy(dataset_freq[dataset_freq[\"category\"] != \"Enterovirus infection\"])\n",
    "d_f_no_enterovirus = Dataset(\n",
    "    data = dataset_freq_no_enterovirus.drop(columns=[\"patient_id\", \"category\"]),\n",
    "    target = dataset_freq_no_enterovirus[\"category\"]\n",
    ")\n",
    "\n",
    "\n",
    "# make dataset without category: Enterovirus infection and Control\n",
    "\n",
    "dataset_freq_no_enterovirus_control = deepcopy(dataset_freq_no_enterovirus[dataset_freq_no_enterovirus[\"category\"] != \"Control\"])\n",
    "d_f_no_enterovirus_control = Dataset(\n",
    "    data = dataset_freq_no_enterovirus_control.drop(columns=[\"patient_id\", \"category\"]),\n",
    "    target = dataset_freq_no_enterovirus_control[\"category\"]\n",
    ")\n",
    "\n",
    "\n",
    "# make dataset without category: Enterovirus infection. Masked category SingleAAB, MultipleAABs, and Celiac_case as Non_control\n",
    "\n",
    "dataset_freq_no_enterovirus_control_masked = deepcopy(dataset_freq_no_enterovirus)\n",
    "dataset_freq_no_enterovirus_control_masked[\"category\"] = dataset_freq_no_enterovirus_control_masked[\"category\"].apply(lambda x: \"Non_control\" if x in [\"Single AAB\", \"Multiple AABs\", \"Celiac_case\"] else x)\n",
    "d_f_no_enterovirus_control_masked = Dataset(\n",
    "    data = dataset_freq_no_enterovirus_control_masked.drop(columns=[\"patient_id\", \"category\"]),\n",
    "    target = dataset_freq_no_enterovirus_control_masked[\"category\"]\n",
    ")\n",
    "\n",
    "\n",
    "DATASETS = {\n",
    "    \"dataset_freq\": d_f,\n",
    "    \"dataset_sum\": d_s,\n",
    "    \"dataset_freq_no_enterovirus\": d_f_no_enterovirus,\n",
    "    \"dataset_freq_no_enterovirus_control\": d_f_no_enterovirus_control,\n",
    "    \"dataset_freq_no_enterovirus_control_masked\": d_f_no_enterovirus_control_masked\n",
    "}"
   ]
  },
  {
   "cell_type": "markdown",
   "metadata": {},
   "source": [
    "# Classification"
   ]
  },
  {
   "cell_type": "markdown",
   "metadata": {},
   "source": [
    "## Confusion Matrix"
   ]
  },
  {
   "cell_type": "code",
   "execution_count": 12,
   "metadata": {},
   "outputs": [],
   "source": [
    "def make_confusion_matrix(y_true, y_pred, clf, title):\n",
    "    cm = confusion_matrix(y_true, y_pred, )\n",
    "    labels = clf.classes_\n",
    "    # plot confusion matrix using plotly show numbers in each cell\n",
    "    fig = px.imshow(cm, labels=dict(x=\"Predicted\", y=\"True\"), x=labels, y=labels, color_continuous_scale='Viridis', height=600, width=600, text_auto=True) \n",
    "    fig.update_xaxes(side=\"bottom\")\n",
    "    fig.update_layout(title=title)\n",
    "    fig.show()"
   ]
  },
  {
   "cell_type": "markdown",
   "metadata": {},
   "source": [
    "## MLPClassifier\n",
    "Classification on all categories"
   ]
  },
  {
   "cell_type": "code",
   "execution_count": 13,
   "metadata": {},
   "outputs": [
    {
     "name": "stdout",
     "output_type": "stream",
     "text": [
      "TEST Accuracy:  0.7808219178082192\n"
     ]
    },
    {
     "data": {
      "application/vnd.plotly.v1+json": {
       "config": {
        "plotlyServerURL": "https://plot.ly"
       },
       "data": [
        {
         "coloraxis": "coloraxis",
         "hovertemplate": "Predicted: %{x}<br>True: %{y}<br>color: %{z}<extra></extra>",
         "name": "0",
         "texttemplate": "%{z}",
         "type": "heatmap",
         "x": [
          "Celiac_case",
          "Control",
          "Enterovirus infection",
          "Multiple AABs",
          "Single AAB"
         ],
         "xaxis": "x",
         "y": [
          "Celiac_case",
          "Control",
          "Enterovirus infection",
          "Multiple AABs",
          "Single AAB"
         ],
         "yaxis": "y",
         "z": [
          [
           8,
           1,
           0,
           0,
           0
          ],
          [
           1,
           31,
           0,
           1,
           4
          ],
          [
           0,
           0,
           2,
           0,
           0
          ],
          [
           1,
           1,
           0,
           10,
           1
          ],
          [
           0,
           5,
           0,
           1,
           6
          ]
         ]
        }
       ],
       "layout": {
        "coloraxis": {
         "colorscale": [
          [
           0,
           "#440154"
          ],
          [
           0.1111111111111111,
           "#482878"
          ],
          [
           0.2222222222222222,
           "#3e4989"
          ],
          [
           0.3333333333333333,
           "#31688e"
          ],
          [
           0.4444444444444444,
           "#26828e"
          ],
          [
           0.5555555555555556,
           "#1f9e89"
          ],
          [
           0.6666666666666666,
           "#35b779"
          ],
          [
           0.7777777777777778,
           "#6ece58"
          ],
          [
           0.8888888888888888,
           "#b5de2b"
          ],
          [
           1,
           "#fde725"
          ]
         ]
        },
        "height": 600,
        "margin": {
         "t": 60
        },
        "template": {
         "data": {
          "bar": [
           {
            "error_x": {
             "color": "#2a3f5f"
            },
            "error_y": {
             "color": "#2a3f5f"
            },
            "marker": {
             "line": {
              "color": "#E5ECF6",
              "width": 0.5
             },
             "pattern": {
              "fillmode": "overlay",
              "size": 10,
              "solidity": 0.2
             }
            },
            "type": "bar"
           }
          ],
          "barpolar": [
           {
            "marker": {
             "line": {
              "color": "#E5ECF6",
              "width": 0.5
             },
             "pattern": {
              "fillmode": "overlay",
              "size": 10,
              "solidity": 0.2
             }
            },
            "type": "barpolar"
           }
          ],
          "carpet": [
           {
            "aaxis": {
             "endlinecolor": "#2a3f5f",
             "gridcolor": "white",
             "linecolor": "white",
             "minorgridcolor": "white",
             "startlinecolor": "#2a3f5f"
            },
            "baxis": {
             "endlinecolor": "#2a3f5f",
             "gridcolor": "white",
             "linecolor": "white",
             "minorgridcolor": "white",
             "startlinecolor": "#2a3f5f"
            },
            "type": "carpet"
           }
          ],
          "choropleth": [
           {
            "colorbar": {
             "outlinewidth": 0,
             "ticks": ""
            },
            "type": "choropleth"
           }
          ],
          "contour": [
           {
            "colorbar": {
             "outlinewidth": 0,
             "ticks": ""
            },
            "colorscale": [
             [
              0,
              "#0d0887"
             ],
             [
              0.1111111111111111,
              "#46039f"
             ],
             [
              0.2222222222222222,
              "#7201a8"
             ],
             [
              0.3333333333333333,
              "#9c179e"
             ],
             [
              0.4444444444444444,
              "#bd3786"
             ],
             [
              0.5555555555555556,
              "#d8576b"
             ],
             [
              0.6666666666666666,
              "#ed7953"
             ],
             [
              0.7777777777777778,
              "#fb9f3a"
             ],
             [
              0.8888888888888888,
              "#fdca26"
             ],
             [
              1,
              "#f0f921"
             ]
            ],
            "type": "contour"
           }
          ],
          "contourcarpet": [
           {
            "colorbar": {
             "outlinewidth": 0,
             "ticks": ""
            },
            "type": "contourcarpet"
           }
          ],
          "heatmap": [
           {
            "colorbar": {
             "outlinewidth": 0,
             "ticks": ""
            },
            "colorscale": [
             [
              0,
              "#0d0887"
             ],
             [
              0.1111111111111111,
              "#46039f"
             ],
             [
              0.2222222222222222,
              "#7201a8"
             ],
             [
              0.3333333333333333,
              "#9c179e"
             ],
             [
              0.4444444444444444,
              "#bd3786"
             ],
             [
              0.5555555555555556,
              "#d8576b"
             ],
             [
              0.6666666666666666,
              "#ed7953"
             ],
             [
              0.7777777777777778,
              "#fb9f3a"
             ],
             [
              0.8888888888888888,
              "#fdca26"
             ],
             [
              1,
              "#f0f921"
             ]
            ],
            "type": "heatmap"
           }
          ],
          "heatmapgl": [
           {
            "colorbar": {
             "outlinewidth": 0,
             "ticks": ""
            },
            "colorscale": [
             [
              0,
              "#0d0887"
             ],
             [
              0.1111111111111111,
              "#46039f"
             ],
             [
              0.2222222222222222,
              "#7201a8"
             ],
             [
              0.3333333333333333,
              "#9c179e"
             ],
             [
              0.4444444444444444,
              "#bd3786"
             ],
             [
              0.5555555555555556,
              "#d8576b"
             ],
             [
              0.6666666666666666,
              "#ed7953"
             ],
             [
              0.7777777777777778,
              "#fb9f3a"
             ],
             [
              0.8888888888888888,
              "#fdca26"
             ],
             [
              1,
              "#f0f921"
             ]
            ],
            "type": "heatmapgl"
           }
          ],
          "histogram": [
           {
            "marker": {
             "pattern": {
              "fillmode": "overlay",
              "size": 10,
              "solidity": 0.2
             }
            },
            "type": "histogram"
           }
          ],
          "histogram2d": [
           {
            "colorbar": {
             "outlinewidth": 0,
             "ticks": ""
            },
            "colorscale": [
             [
              0,
              "#0d0887"
             ],
             [
              0.1111111111111111,
              "#46039f"
             ],
             [
              0.2222222222222222,
              "#7201a8"
             ],
             [
              0.3333333333333333,
              "#9c179e"
             ],
             [
              0.4444444444444444,
              "#bd3786"
             ],
             [
              0.5555555555555556,
              "#d8576b"
             ],
             [
              0.6666666666666666,
              "#ed7953"
             ],
             [
              0.7777777777777778,
              "#fb9f3a"
             ],
             [
              0.8888888888888888,
              "#fdca26"
             ],
             [
              1,
              "#f0f921"
             ]
            ],
            "type": "histogram2d"
           }
          ],
          "histogram2dcontour": [
           {
            "colorbar": {
             "outlinewidth": 0,
             "ticks": ""
            },
            "colorscale": [
             [
              0,
              "#0d0887"
             ],
             [
              0.1111111111111111,
              "#46039f"
             ],
             [
              0.2222222222222222,
              "#7201a8"
             ],
             [
              0.3333333333333333,
              "#9c179e"
             ],
             [
              0.4444444444444444,
              "#bd3786"
             ],
             [
              0.5555555555555556,
              "#d8576b"
             ],
             [
              0.6666666666666666,
              "#ed7953"
             ],
             [
              0.7777777777777778,
              "#fb9f3a"
             ],
             [
              0.8888888888888888,
              "#fdca26"
             ],
             [
              1,
              "#f0f921"
             ]
            ],
            "type": "histogram2dcontour"
           }
          ],
          "mesh3d": [
           {
            "colorbar": {
             "outlinewidth": 0,
             "ticks": ""
            },
            "type": "mesh3d"
           }
          ],
          "parcoords": [
           {
            "line": {
             "colorbar": {
              "outlinewidth": 0,
              "ticks": ""
             }
            },
            "type": "parcoords"
           }
          ],
          "pie": [
           {
            "automargin": true,
            "type": "pie"
           }
          ],
          "scatter": [
           {
            "fillpattern": {
             "fillmode": "overlay",
             "size": 10,
             "solidity": 0.2
            },
            "type": "scatter"
           }
          ],
          "scatter3d": [
           {
            "line": {
             "colorbar": {
              "outlinewidth": 0,
              "ticks": ""
             }
            },
            "marker": {
             "colorbar": {
              "outlinewidth": 0,
              "ticks": ""
             }
            },
            "type": "scatter3d"
           }
          ],
          "scattercarpet": [
           {
            "marker": {
             "colorbar": {
              "outlinewidth": 0,
              "ticks": ""
             }
            },
            "type": "scattercarpet"
           }
          ],
          "scattergeo": [
           {
            "marker": {
             "colorbar": {
              "outlinewidth": 0,
              "ticks": ""
             }
            },
            "type": "scattergeo"
           }
          ],
          "scattergl": [
           {
            "marker": {
             "colorbar": {
              "outlinewidth": 0,
              "ticks": ""
             }
            },
            "type": "scattergl"
           }
          ],
          "scattermapbox": [
           {
            "marker": {
             "colorbar": {
              "outlinewidth": 0,
              "ticks": ""
             }
            },
            "type": "scattermapbox"
           }
          ],
          "scatterpolar": [
           {
            "marker": {
             "colorbar": {
              "outlinewidth": 0,
              "ticks": ""
             }
            },
            "type": "scatterpolar"
           }
          ],
          "scatterpolargl": [
           {
            "marker": {
             "colorbar": {
              "outlinewidth": 0,
              "ticks": ""
             }
            },
            "type": "scatterpolargl"
           }
          ],
          "scatterternary": [
           {
            "marker": {
             "colorbar": {
              "outlinewidth": 0,
              "ticks": ""
             }
            },
            "type": "scatterternary"
           }
          ],
          "surface": [
           {
            "colorbar": {
             "outlinewidth": 0,
             "ticks": ""
            },
            "colorscale": [
             [
              0,
              "#0d0887"
             ],
             [
              0.1111111111111111,
              "#46039f"
             ],
             [
              0.2222222222222222,
              "#7201a8"
             ],
             [
              0.3333333333333333,
              "#9c179e"
             ],
             [
              0.4444444444444444,
              "#bd3786"
             ],
             [
              0.5555555555555556,
              "#d8576b"
             ],
             [
              0.6666666666666666,
              "#ed7953"
             ],
             [
              0.7777777777777778,
              "#fb9f3a"
             ],
             [
              0.8888888888888888,
              "#fdca26"
             ],
             [
              1,
              "#f0f921"
             ]
            ],
            "type": "surface"
           }
          ],
          "table": [
           {
            "cells": {
             "fill": {
              "color": "#EBF0F8"
             },
             "line": {
              "color": "white"
             }
            },
            "header": {
             "fill": {
              "color": "#C8D4E3"
             },
             "line": {
              "color": "white"
             }
            },
            "type": "table"
           }
          ]
         },
         "layout": {
          "annotationdefaults": {
           "arrowcolor": "#2a3f5f",
           "arrowhead": 0,
           "arrowwidth": 1
          },
          "autotypenumbers": "strict",
          "coloraxis": {
           "colorbar": {
            "outlinewidth": 0,
            "ticks": ""
           }
          },
          "colorscale": {
           "diverging": [
            [
             0,
             "#8e0152"
            ],
            [
             0.1,
             "#c51b7d"
            ],
            [
             0.2,
             "#de77ae"
            ],
            [
             0.3,
             "#f1b6da"
            ],
            [
             0.4,
             "#fde0ef"
            ],
            [
             0.5,
             "#f7f7f7"
            ],
            [
             0.6,
             "#e6f5d0"
            ],
            [
             0.7,
             "#b8e186"
            ],
            [
             0.8,
             "#7fbc41"
            ],
            [
             0.9,
             "#4d9221"
            ],
            [
             1,
             "#276419"
            ]
           ],
           "sequential": [
            [
             0,
             "#0d0887"
            ],
            [
             0.1111111111111111,
             "#46039f"
            ],
            [
             0.2222222222222222,
             "#7201a8"
            ],
            [
             0.3333333333333333,
             "#9c179e"
            ],
            [
             0.4444444444444444,
             "#bd3786"
            ],
            [
             0.5555555555555556,
             "#d8576b"
            ],
            [
             0.6666666666666666,
             "#ed7953"
            ],
            [
             0.7777777777777778,
             "#fb9f3a"
            ],
            [
             0.8888888888888888,
             "#fdca26"
            ],
            [
             1,
             "#f0f921"
            ]
           ],
           "sequentialminus": [
            [
             0,
             "#0d0887"
            ],
            [
             0.1111111111111111,
             "#46039f"
            ],
            [
             0.2222222222222222,
             "#7201a8"
            ],
            [
             0.3333333333333333,
             "#9c179e"
            ],
            [
             0.4444444444444444,
             "#bd3786"
            ],
            [
             0.5555555555555556,
             "#d8576b"
            ],
            [
             0.6666666666666666,
             "#ed7953"
            ],
            [
             0.7777777777777778,
             "#fb9f3a"
            ],
            [
             0.8888888888888888,
             "#fdca26"
            ],
            [
             1,
             "#f0f921"
            ]
           ]
          },
          "colorway": [
           "#636efa",
           "#EF553B",
           "#00cc96",
           "#ab63fa",
           "#FFA15A",
           "#19d3f3",
           "#FF6692",
           "#B6E880",
           "#FF97FF",
           "#FECB52"
          ],
          "font": {
           "color": "#2a3f5f"
          },
          "geo": {
           "bgcolor": "white",
           "lakecolor": "white",
           "landcolor": "#E5ECF6",
           "showlakes": true,
           "showland": true,
           "subunitcolor": "white"
          },
          "hoverlabel": {
           "align": "left"
          },
          "hovermode": "closest",
          "mapbox": {
           "style": "light"
          },
          "paper_bgcolor": "white",
          "plot_bgcolor": "#E5ECF6",
          "polar": {
           "angularaxis": {
            "gridcolor": "white",
            "linecolor": "white",
            "ticks": ""
           },
           "bgcolor": "#E5ECF6",
           "radialaxis": {
            "gridcolor": "white",
            "linecolor": "white",
            "ticks": ""
           }
          },
          "scene": {
           "xaxis": {
            "backgroundcolor": "#E5ECF6",
            "gridcolor": "white",
            "gridwidth": 2,
            "linecolor": "white",
            "showbackground": true,
            "ticks": "",
            "zerolinecolor": "white"
           },
           "yaxis": {
            "backgroundcolor": "#E5ECF6",
            "gridcolor": "white",
            "gridwidth": 2,
            "linecolor": "white",
            "showbackground": true,
            "ticks": "",
            "zerolinecolor": "white"
           },
           "zaxis": {
            "backgroundcolor": "#E5ECF6",
            "gridcolor": "white",
            "gridwidth": 2,
            "linecolor": "white",
            "showbackground": true,
            "ticks": "",
            "zerolinecolor": "white"
           }
          },
          "shapedefaults": {
           "line": {
            "color": "#2a3f5f"
           }
          },
          "ternary": {
           "aaxis": {
            "gridcolor": "white",
            "linecolor": "white",
            "ticks": ""
           },
           "baxis": {
            "gridcolor": "white",
            "linecolor": "white",
            "ticks": ""
           },
           "bgcolor": "#E5ECF6",
           "caxis": {
            "gridcolor": "white",
            "linecolor": "white",
            "ticks": ""
           }
          },
          "title": {
           "x": 0.05
          },
          "xaxis": {
           "automargin": true,
           "gridcolor": "white",
           "linecolor": "white",
           "ticks": "",
           "title": {
            "standoff": 15
           },
           "zerolinecolor": "white",
           "zerolinewidth": 2
          },
          "yaxis": {
           "automargin": true,
           "gridcolor": "white",
           "linecolor": "white",
           "ticks": "",
           "title": {
            "standoff": 15
           },
           "zerolinecolor": "white",
           "zerolinewidth": 2
          }
         }
        },
        "title": {
         "text": "All categories"
        },
        "width": 600,
        "xaxis": {
         "anchor": "y",
         "constrain": "domain",
         "domain": [
          0,
          1
         ],
         "scaleanchor": "y",
         "side": "bottom",
         "title": {
          "text": "Predicted"
         }
        },
        "yaxis": {
         "anchor": "x",
         "autorange": "reversed",
         "constrain": "domain",
         "domain": [
          0,
          1
         ],
         "title": {
          "text": "True"
         }
        }
       }
      }
     },
     "metadata": {},
     "output_type": "display_data"
    }
   ],
   "source": [
    "# split the data into training and testing\n",
    "X_train, X_test, y_train, y_test = train_test_split(DATASETS[\"dataset_freq\"].data, DATASETS[\"dataset_freq\"].target, test_size=0.2, random_state=2)\n",
    "\n",
    "clf = MLPClassifier(hidden_layer_sizes=([300, 200, 15]), \n",
    "                    max_iter=3000,\n",
    "                    activation=\"relu\",\n",
    "                    solver= \"adam\",\n",
    "                    random_state=2,\n",
    "                    verbose=False,\n",
    "                    early_stopping=False,\n",
    "                    learning_rate='adaptive',\n",
    "                    learning_rate_init=0.002,\n",
    "                    alpha=0.01,)\n",
    "\n",
    "pipeline = Pipeline([\n",
    "    (\"scaler\", StandardScaler()),\n",
    "    (\"clf\", clf)\n",
    "])\n",
    "\n",
    "pipeline.fit(X_train, y_train)\n",
    "y_pred = pipeline.predict(X_test)\n",
    "print(\"TEST Accuracy: \", accuracy_score(y_test, y_pred))\n",
    "make_confusion_matrix(y_test, y_pred, clf, title = \"All categories\")\n",
    "\n"
   ]
  },
  {
   "cell_type": "markdown",
   "metadata": {},
   "source": [
    "### Control x Non Control"
   ]
  },
  {
   "cell_type": "code",
   "execution_count": 14,
   "metadata": {},
   "outputs": [
    {
     "name": "stdout",
     "output_type": "stream",
     "text": [
      "TEST Accuracy:  0.863013698630137\n"
     ]
    },
    {
     "data": {
      "application/vnd.plotly.v1+json": {
       "config": {
        "plotlyServerURL": "https://plot.ly"
       },
       "data": [
        {
         "coloraxis": "coloraxis",
         "hovertemplate": "Predicted: %{x}<br>True: %{y}<br>color: %{z}<extra></extra>",
         "name": "0",
         "texttemplate": "%{z}",
         "type": "heatmap",
         "x": [
          "Control",
          "Non_control"
         ],
         "xaxis": "x",
         "y": [
          "Control",
          "Non_control"
         ],
         "yaxis": "y",
         "z": [
          [
           30,
           4
          ],
          [
           6,
           33
          ]
         ]
        }
       ],
       "layout": {
        "coloraxis": {
         "colorscale": [
          [
           0,
           "#440154"
          ],
          [
           0.1111111111111111,
           "#482878"
          ],
          [
           0.2222222222222222,
           "#3e4989"
          ],
          [
           0.3333333333333333,
           "#31688e"
          ],
          [
           0.4444444444444444,
           "#26828e"
          ],
          [
           0.5555555555555556,
           "#1f9e89"
          ],
          [
           0.6666666666666666,
           "#35b779"
          ],
          [
           0.7777777777777778,
           "#6ece58"
          ],
          [
           0.8888888888888888,
           "#b5de2b"
          ],
          [
           1,
           "#fde725"
          ]
         ]
        },
        "height": 600,
        "margin": {
         "t": 60
        },
        "template": {
         "data": {
          "bar": [
           {
            "error_x": {
             "color": "#2a3f5f"
            },
            "error_y": {
             "color": "#2a3f5f"
            },
            "marker": {
             "line": {
              "color": "#E5ECF6",
              "width": 0.5
             },
             "pattern": {
              "fillmode": "overlay",
              "size": 10,
              "solidity": 0.2
             }
            },
            "type": "bar"
           }
          ],
          "barpolar": [
           {
            "marker": {
             "line": {
              "color": "#E5ECF6",
              "width": 0.5
             },
             "pattern": {
              "fillmode": "overlay",
              "size": 10,
              "solidity": 0.2
             }
            },
            "type": "barpolar"
           }
          ],
          "carpet": [
           {
            "aaxis": {
             "endlinecolor": "#2a3f5f",
             "gridcolor": "white",
             "linecolor": "white",
             "minorgridcolor": "white",
             "startlinecolor": "#2a3f5f"
            },
            "baxis": {
             "endlinecolor": "#2a3f5f",
             "gridcolor": "white",
             "linecolor": "white",
             "minorgridcolor": "white",
             "startlinecolor": "#2a3f5f"
            },
            "type": "carpet"
           }
          ],
          "choropleth": [
           {
            "colorbar": {
             "outlinewidth": 0,
             "ticks": ""
            },
            "type": "choropleth"
           }
          ],
          "contour": [
           {
            "colorbar": {
             "outlinewidth": 0,
             "ticks": ""
            },
            "colorscale": [
             [
              0,
              "#0d0887"
             ],
             [
              0.1111111111111111,
              "#46039f"
             ],
             [
              0.2222222222222222,
              "#7201a8"
             ],
             [
              0.3333333333333333,
              "#9c179e"
             ],
             [
              0.4444444444444444,
              "#bd3786"
             ],
             [
              0.5555555555555556,
              "#d8576b"
             ],
             [
              0.6666666666666666,
              "#ed7953"
             ],
             [
              0.7777777777777778,
              "#fb9f3a"
             ],
             [
              0.8888888888888888,
              "#fdca26"
             ],
             [
              1,
              "#f0f921"
             ]
            ],
            "type": "contour"
           }
          ],
          "contourcarpet": [
           {
            "colorbar": {
             "outlinewidth": 0,
             "ticks": ""
            },
            "type": "contourcarpet"
           }
          ],
          "heatmap": [
           {
            "colorbar": {
             "outlinewidth": 0,
             "ticks": ""
            },
            "colorscale": [
             [
              0,
              "#0d0887"
             ],
             [
              0.1111111111111111,
              "#46039f"
             ],
             [
              0.2222222222222222,
              "#7201a8"
             ],
             [
              0.3333333333333333,
              "#9c179e"
             ],
             [
              0.4444444444444444,
              "#bd3786"
             ],
             [
              0.5555555555555556,
              "#d8576b"
             ],
             [
              0.6666666666666666,
              "#ed7953"
             ],
             [
              0.7777777777777778,
              "#fb9f3a"
             ],
             [
              0.8888888888888888,
              "#fdca26"
             ],
             [
              1,
              "#f0f921"
             ]
            ],
            "type": "heatmap"
           }
          ],
          "heatmapgl": [
           {
            "colorbar": {
             "outlinewidth": 0,
             "ticks": ""
            },
            "colorscale": [
             [
              0,
              "#0d0887"
             ],
             [
              0.1111111111111111,
              "#46039f"
             ],
             [
              0.2222222222222222,
              "#7201a8"
             ],
             [
              0.3333333333333333,
              "#9c179e"
             ],
             [
              0.4444444444444444,
              "#bd3786"
             ],
             [
              0.5555555555555556,
              "#d8576b"
             ],
             [
              0.6666666666666666,
              "#ed7953"
             ],
             [
              0.7777777777777778,
              "#fb9f3a"
             ],
             [
              0.8888888888888888,
              "#fdca26"
             ],
             [
              1,
              "#f0f921"
             ]
            ],
            "type": "heatmapgl"
           }
          ],
          "histogram": [
           {
            "marker": {
             "pattern": {
              "fillmode": "overlay",
              "size": 10,
              "solidity": 0.2
             }
            },
            "type": "histogram"
           }
          ],
          "histogram2d": [
           {
            "colorbar": {
             "outlinewidth": 0,
             "ticks": ""
            },
            "colorscale": [
             [
              0,
              "#0d0887"
             ],
             [
              0.1111111111111111,
              "#46039f"
             ],
             [
              0.2222222222222222,
              "#7201a8"
             ],
             [
              0.3333333333333333,
              "#9c179e"
             ],
             [
              0.4444444444444444,
              "#bd3786"
             ],
             [
              0.5555555555555556,
              "#d8576b"
             ],
             [
              0.6666666666666666,
              "#ed7953"
             ],
             [
              0.7777777777777778,
              "#fb9f3a"
             ],
             [
              0.8888888888888888,
              "#fdca26"
             ],
             [
              1,
              "#f0f921"
             ]
            ],
            "type": "histogram2d"
           }
          ],
          "histogram2dcontour": [
           {
            "colorbar": {
             "outlinewidth": 0,
             "ticks": ""
            },
            "colorscale": [
             [
              0,
              "#0d0887"
             ],
             [
              0.1111111111111111,
              "#46039f"
             ],
             [
              0.2222222222222222,
              "#7201a8"
             ],
             [
              0.3333333333333333,
              "#9c179e"
             ],
             [
              0.4444444444444444,
              "#bd3786"
             ],
             [
              0.5555555555555556,
              "#d8576b"
             ],
             [
              0.6666666666666666,
              "#ed7953"
             ],
             [
              0.7777777777777778,
              "#fb9f3a"
             ],
             [
              0.8888888888888888,
              "#fdca26"
             ],
             [
              1,
              "#f0f921"
             ]
            ],
            "type": "histogram2dcontour"
           }
          ],
          "mesh3d": [
           {
            "colorbar": {
             "outlinewidth": 0,
             "ticks": ""
            },
            "type": "mesh3d"
           }
          ],
          "parcoords": [
           {
            "line": {
             "colorbar": {
              "outlinewidth": 0,
              "ticks": ""
             }
            },
            "type": "parcoords"
           }
          ],
          "pie": [
           {
            "automargin": true,
            "type": "pie"
           }
          ],
          "scatter": [
           {
            "fillpattern": {
             "fillmode": "overlay",
             "size": 10,
             "solidity": 0.2
            },
            "type": "scatter"
           }
          ],
          "scatter3d": [
           {
            "line": {
             "colorbar": {
              "outlinewidth": 0,
              "ticks": ""
             }
            },
            "marker": {
             "colorbar": {
              "outlinewidth": 0,
              "ticks": ""
             }
            },
            "type": "scatter3d"
           }
          ],
          "scattercarpet": [
           {
            "marker": {
             "colorbar": {
              "outlinewidth": 0,
              "ticks": ""
             }
            },
            "type": "scattercarpet"
           }
          ],
          "scattergeo": [
           {
            "marker": {
             "colorbar": {
              "outlinewidth": 0,
              "ticks": ""
             }
            },
            "type": "scattergeo"
           }
          ],
          "scattergl": [
           {
            "marker": {
             "colorbar": {
              "outlinewidth": 0,
              "ticks": ""
             }
            },
            "type": "scattergl"
           }
          ],
          "scattermapbox": [
           {
            "marker": {
             "colorbar": {
              "outlinewidth": 0,
              "ticks": ""
             }
            },
            "type": "scattermapbox"
           }
          ],
          "scatterpolar": [
           {
            "marker": {
             "colorbar": {
              "outlinewidth": 0,
              "ticks": ""
             }
            },
            "type": "scatterpolar"
           }
          ],
          "scatterpolargl": [
           {
            "marker": {
             "colorbar": {
              "outlinewidth": 0,
              "ticks": ""
             }
            },
            "type": "scatterpolargl"
           }
          ],
          "scatterternary": [
           {
            "marker": {
             "colorbar": {
              "outlinewidth": 0,
              "ticks": ""
             }
            },
            "type": "scatterternary"
           }
          ],
          "surface": [
           {
            "colorbar": {
             "outlinewidth": 0,
             "ticks": ""
            },
            "colorscale": [
             [
              0,
              "#0d0887"
             ],
             [
              0.1111111111111111,
              "#46039f"
             ],
             [
              0.2222222222222222,
              "#7201a8"
             ],
             [
              0.3333333333333333,
              "#9c179e"
             ],
             [
              0.4444444444444444,
              "#bd3786"
             ],
             [
              0.5555555555555556,
              "#d8576b"
             ],
             [
              0.6666666666666666,
              "#ed7953"
             ],
             [
              0.7777777777777778,
              "#fb9f3a"
             ],
             [
              0.8888888888888888,
              "#fdca26"
             ],
             [
              1,
              "#f0f921"
             ]
            ],
            "type": "surface"
           }
          ],
          "table": [
           {
            "cells": {
             "fill": {
              "color": "#EBF0F8"
             },
             "line": {
              "color": "white"
             }
            },
            "header": {
             "fill": {
              "color": "#C8D4E3"
             },
             "line": {
              "color": "white"
             }
            },
            "type": "table"
           }
          ]
         },
         "layout": {
          "annotationdefaults": {
           "arrowcolor": "#2a3f5f",
           "arrowhead": 0,
           "arrowwidth": 1
          },
          "autotypenumbers": "strict",
          "coloraxis": {
           "colorbar": {
            "outlinewidth": 0,
            "ticks": ""
           }
          },
          "colorscale": {
           "diverging": [
            [
             0,
             "#8e0152"
            ],
            [
             0.1,
             "#c51b7d"
            ],
            [
             0.2,
             "#de77ae"
            ],
            [
             0.3,
             "#f1b6da"
            ],
            [
             0.4,
             "#fde0ef"
            ],
            [
             0.5,
             "#f7f7f7"
            ],
            [
             0.6,
             "#e6f5d0"
            ],
            [
             0.7,
             "#b8e186"
            ],
            [
             0.8,
             "#7fbc41"
            ],
            [
             0.9,
             "#4d9221"
            ],
            [
             1,
             "#276419"
            ]
           ],
           "sequential": [
            [
             0,
             "#0d0887"
            ],
            [
             0.1111111111111111,
             "#46039f"
            ],
            [
             0.2222222222222222,
             "#7201a8"
            ],
            [
             0.3333333333333333,
             "#9c179e"
            ],
            [
             0.4444444444444444,
             "#bd3786"
            ],
            [
             0.5555555555555556,
             "#d8576b"
            ],
            [
             0.6666666666666666,
             "#ed7953"
            ],
            [
             0.7777777777777778,
             "#fb9f3a"
            ],
            [
             0.8888888888888888,
             "#fdca26"
            ],
            [
             1,
             "#f0f921"
            ]
           ],
           "sequentialminus": [
            [
             0,
             "#0d0887"
            ],
            [
             0.1111111111111111,
             "#46039f"
            ],
            [
             0.2222222222222222,
             "#7201a8"
            ],
            [
             0.3333333333333333,
             "#9c179e"
            ],
            [
             0.4444444444444444,
             "#bd3786"
            ],
            [
             0.5555555555555556,
             "#d8576b"
            ],
            [
             0.6666666666666666,
             "#ed7953"
            ],
            [
             0.7777777777777778,
             "#fb9f3a"
            ],
            [
             0.8888888888888888,
             "#fdca26"
            ],
            [
             1,
             "#f0f921"
            ]
           ]
          },
          "colorway": [
           "#636efa",
           "#EF553B",
           "#00cc96",
           "#ab63fa",
           "#FFA15A",
           "#19d3f3",
           "#FF6692",
           "#B6E880",
           "#FF97FF",
           "#FECB52"
          ],
          "font": {
           "color": "#2a3f5f"
          },
          "geo": {
           "bgcolor": "white",
           "lakecolor": "white",
           "landcolor": "#E5ECF6",
           "showlakes": true,
           "showland": true,
           "subunitcolor": "white"
          },
          "hoverlabel": {
           "align": "left"
          },
          "hovermode": "closest",
          "mapbox": {
           "style": "light"
          },
          "paper_bgcolor": "white",
          "plot_bgcolor": "#E5ECF6",
          "polar": {
           "angularaxis": {
            "gridcolor": "white",
            "linecolor": "white",
            "ticks": ""
           },
           "bgcolor": "#E5ECF6",
           "radialaxis": {
            "gridcolor": "white",
            "linecolor": "white",
            "ticks": ""
           }
          },
          "scene": {
           "xaxis": {
            "backgroundcolor": "#E5ECF6",
            "gridcolor": "white",
            "gridwidth": 2,
            "linecolor": "white",
            "showbackground": true,
            "ticks": "",
            "zerolinecolor": "white"
           },
           "yaxis": {
            "backgroundcolor": "#E5ECF6",
            "gridcolor": "white",
            "gridwidth": 2,
            "linecolor": "white",
            "showbackground": true,
            "ticks": "",
            "zerolinecolor": "white"
           },
           "zaxis": {
            "backgroundcolor": "#E5ECF6",
            "gridcolor": "white",
            "gridwidth": 2,
            "linecolor": "white",
            "showbackground": true,
            "ticks": "",
            "zerolinecolor": "white"
           }
          },
          "shapedefaults": {
           "line": {
            "color": "#2a3f5f"
           }
          },
          "ternary": {
           "aaxis": {
            "gridcolor": "white",
            "linecolor": "white",
            "ticks": ""
           },
           "baxis": {
            "gridcolor": "white",
            "linecolor": "white",
            "ticks": ""
           },
           "bgcolor": "#E5ECF6",
           "caxis": {
            "gridcolor": "white",
            "linecolor": "white",
            "ticks": ""
           }
          },
          "title": {
           "x": 0.05
          },
          "xaxis": {
           "automargin": true,
           "gridcolor": "white",
           "linecolor": "white",
           "ticks": "",
           "title": {
            "standoff": 15
           },
           "zerolinecolor": "white",
           "zerolinewidth": 2
          },
          "yaxis": {
           "automargin": true,
           "gridcolor": "white",
           "linecolor": "white",
           "ticks": "",
           "title": {
            "standoff": 15
           },
           "zerolinecolor": "white",
           "zerolinewidth": 2
          }
         }
        },
        "title": {
         "text": "Control vs Non_control"
        },
        "width": 600,
        "xaxis": {
         "anchor": "y",
         "constrain": "domain",
         "domain": [
          0,
          1
         ],
         "scaleanchor": "y",
         "side": "bottom",
         "title": {
          "text": "Predicted"
         }
        },
        "yaxis": {
         "anchor": "x",
         "autorange": "reversed",
         "constrain": "domain",
         "domain": [
          0,
          1
         ],
         "title": {
          "text": "True"
         }
        }
       }
      }
     },
     "metadata": {},
     "output_type": "display_data"
    }
   ],
   "source": [
    "X_train, X_test, y_train, y_test = train_test_split(DATASETS[\"dataset_freq_no_enterovirus_control_masked\"].data, DATASETS[\"dataset_freq_no_enterovirus_control_masked\"].target, test_size=0.2, random_state=2)\n",
    "\n",
    "classifiers = [\n",
    "    LogisticRegression(random_state=42, max_iter=3000, C=0.1, solver=\"lbfgs\", multi_class=\"multinomial\",),\n",
    "    LogisticRegression(random_state=43, max_iter=3000, C=0.1, solver=\"lbfgs\", multi_class=\"multinomial\"),\n",
    "    #KNeighborsClassifier(n_neighbors=5),\n",
    "    MLPClassifier(random_state=46, hidden_layer_sizes=([300, 200, 15]), max_iter=3000, activation=\"relu\", solver= \"adam\", verbose=False, early_stopping=False, learning_rate='adaptive', learning_rate_init=0.001, alpha=0.01,),\n",
    "    MLPClassifier(random_state=47, hidden_layer_sizes=([300, 200, 15]), max_iter=3000, activation=\"relu\", solver= \"adam\", verbose=False, early_stopping=False, learning_rate='adaptive', learning_rate_init=0.001, alpha=0.01,),\n",
    "]\n",
    "\n",
    "clf_weights = [1, 1, 1, 1]\n",
    "voting_clf = VotingClassifier(estimators=[(f\"clf_{i}\", clf) for i, clf in enumerate(classifiers)], voting=\"soft\", \n",
    "                                n_jobs=-1, weights=clf_weights)\n",
    "\n",
    "pipeline = Pipeline([\n",
    "    (\"scaler\", StandardScaler()),\n",
    "    (\"clf\", voting_clf)\n",
    "])\n",
    "\n",
    "pipeline.fit(X_train, y_train)\n",
    "y_pred = pipeline.predict(X_test)\n",
    "print(\"TEST Accuracy: \", accuracy_score(y_test, y_pred))\n",
    "make_confusion_matrix(y_test, y_pred, voting_clf, title = \"Control vs Non_control\")"
   ]
  },
  {
   "cell_type": "markdown",
   "metadata": {},
   "source": [
    "### Non control classification"
   ]
  },
  {
   "cell_type": "code",
   "execution_count": 15,
   "metadata": {},
   "outputs": [
    {
     "name": "stdout",
     "output_type": "stream",
     "text": [
      "TEST Accuracy:  0.9459459459459459\n"
     ]
    },
    {
     "data": {
      "application/vnd.plotly.v1+json": {
       "config": {
        "plotlyServerURL": "https://plot.ly"
       },
       "data": [
        {
         "coloraxis": "coloraxis",
         "hovertemplate": "Predicted: %{x}<br>True: %{y}<br>color: %{z}<extra></extra>",
         "name": "0",
         "texttemplate": "%{z}",
         "type": "heatmap",
         "x": [
          "Celiac_case",
          "Multiple AABs",
          "Single AAB"
         ],
         "xaxis": "x",
         "y": [
          "Celiac_case",
          "Multiple AABs",
          "Single AAB"
         ],
         "yaxis": "y",
         "z": [
          [
           8,
           1,
           1
          ],
          [
           0,
           14,
           0
          ],
          [
           0,
           0,
           13
          ]
         ]
        }
       ],
       "layout": {
        "coloraxis": {
         "colorscale": [
          [
           0,
           "#440154"
          ],
          [
           0.1111111111111111,
           "#482878"
          ],
          [
           0.2222222222222222,
           "#3e4989"
          ],
          [
           0.3333333333333333,
           "#31688e"
          ],
          [
           0.4444444444444444,
           "#26828e"
          ],
          [
           0.5555555555555556,
           "#1f9e89"
          ],
          [
           0.6666666666666666,
           "#35b779"
          ],
          [
           0.7777777777777778,
           "#6ece58"
          ],
          [
           0.8888888888888888,
           "#b5de2b"
          ],
          [
           1,
           "#fde725"
          ]
         ]
        },
        "height": 600,
        "margin": {
         "t": 60
        },
        "template": {
         "data": {
          "bar": [
           {
            "error_x": {
             "color": "#2a3f5f"
            },
            "error_y": {
             "color": "#2a3f5f"
            },
            "marker": {
             "line": {
              "color": "#E5ECF6",
              "width": 0.5
             },
             "pattern": {
              "fillmode": "overlay",
              "size": 10,
              "solidity": 0.2
             }
            },
            "type": "bar"
           }
          ],
          "barpolar": [
           {
            "marker": {
             "line": {
              "color": "#E5ECF6",
              "width": 0.5
             },
             "pattern": {
              "fillmode": "overlay",
              "size": 10,
              "solidity": 0.2
             }
            },
            "type": "barpolar"
           }
          ],
          "carpet": [
           {
            "aaxis": {
             "endlinecolor": "#2a3f5f",
             "gridcolor": "white",
             "linecolor": "white",
             "minorgridcolor": "white",
             "startlinecolor": "#2a3f5f"
            },
            "baxis": {
             "endlinecolor": "#2a3f5f",
             "gridcolor": "white",
             "linecolor": "white",
             "minorgridcolor": "white",
             "startlinecolor": "#2a3f5f"
            },
            "type": "carpet"
           }
          ],
          "choropleth": [
           {
            "colorbar": {
             "outlinewidth": 0,
             "ticks": ""
            },
            "type": "choropleth"
           }
          ],
          "contour": [
           {
            "colorbar": {
             "outlinewidth": 0,
             "ticks": ""
            },
            "colorscale": [
             [
              0,
              "#0d0887"
             ],
             [
              0.1111111111111111,
              "#46039f"
             ],
             [
              0.2222222222222222,
              "#7201a8"
             ],
             [
              0.3333333333333333,
              "#9c179e"
             ],
             [
              0.4444444444444444,
              "#bd3786"
             ],
             [
              0.5555555555555556,
              "#d8576b"
             ],
             [
              0.6666666666666666,
              "#ed7953"
             ],
             [
              0.7777777777777778,
              "#fb9f3a"
             ],
             [
              0.8888888888888888,
              "#fdca26"
             ],
             [
              1,
              "#f0f921"
             ]
            ],
            "type": "contour"
           }
          ],
          "contourcarpet": [
           {
            "colorbar": {
             "outlinewidth": 0,
             "ticks": ""
            },
            "type": "contourcarpet"
           }
          ],
          "heatmap": [
           {
            "colorbar": {
             "outlinewidth": 0,
             "ticks": ""
            },
            "colorscale": [
             [
              0,
              "#0d0887"
             ],
             [
              0.1111111111111111,
              "#46039f"
             ],
             [
              0.2222222222222222,
              "#7201a8"
             ],
             [
              0.3333333333333333,
              "#9c179e"
             ],
             [
              0.4444444444444444,
              "#bd3786"
             ],
             [
              0.5555555555555556,
              "#d8576b"
             ],
             [
              0.6666666666666666,
              "#ed7953"
             ],
             [
              0.7777777777777778,
              "#fb9f3a"
             ],
             [
              0.8888888888888888,
              "#fdca26"
             ],
             [
              1,
              "#f0f921"
             ]
            ],
            "type": "heatmap"
           }
          ],
          "heatmapgl": [
           {
            "colorbar": {
             "outlinewidth": 0,
             "ticks": ""
            },
            "colorscale": [
             [
              0,
              "#0d0887"
             ],
             [
              0.1111111111111111,
              "#46039f"
             ],
             [
              0.2222222222222222,
              "#7201a8"
             ],
             [
              0.3333333333333333,
              "#9c179e"
             ],
             [
              0.4444444444444444,
              "#bd3786"
             ],
             [
              0.5555555555555556,
              "#d8576b"
             ],
             [
              0.6666666666666666,
              "#ed7953"
             ],
             [
              0.7777777777777778,
              "#fb9f3a"
             ],
             [
              0.8888888888888888,
              "#fdca26"
             ],
             [
              1,
              "#f0f921"
             ]
            ],
            "type": "heatmapgl"
           }
          ],
          "histogram": [
           {
            "marker": {
             "pattern": {
              "fillmode": "overlay",
              "size": 10,
              "solidity": 0.2
             }
            },
            "type": "histogram"
           }
          ],
          "histogram2d": [
           {
            "colorbar": {
             "outlinewidth": 0,
             "ticks": ""
            },
            "colorscale": [
             [
              0,
              "#0d0887"
             ],
             [
              0.1111111111111111,
              "#46039f"
             ],
             [
              0.2222222222222222,
              "#7201a8"
             ],
             [
              0.3333333333333333,
              "#9c179e"
             ],
             [
              0.4444444444444444,
              "#bd3786"
             ],
             [
              0.5555555555555556,
              "#d8576b"
             ],
             [
              0.6666666666666666,
              "#ed7953"
             ],
             [
              0.7777777777777778,
              "#fb9f3a"
             ],
             [
              0.8888888888888888,
              "#fdca26"
             ],
             [
              1,
              "#f0f921"
             ]
            ],
            "type": "histogram2d"
           }
          ],
          "histogram2dcontour": [
           {
            "colorbar": {
             "outlinewidth": 0,
             "ticks": ""
            },
            "colorscale": [
             [
              0,
              "#0d0887"
             ],
             [
              0.1111111111111111,
              "#46039f"
             ],
             [
              0.2222222222222222,
              "#7201a8"
             ],
             [
              0.3333333333333333,
              "#9c179e"
             ],
             [
              0.4444444444444444,
              "#bd3786"
             ],
             [
              0.5555555555555556,
              "#d8576b"
             ],
             [
              0.6666666666666666,
              "#ed7953"
             ],
             [
              0.7777777777777778,
              "#fb9f3a"
             ],
             [
              0.8888888888888888,
              "#fdca26"
             ],
             [
              1,
              "#f0f921"
             ]
            ],
            "type": "histogram2dcontour"
           }
          ],
          "mesh3d": [
           {
            "colorbar": {
             "outlinewidth": 0,
             "ticks": ""
            },
            "type": "mesh3d"
           }
          ],
          "parcoords": [
           {
            "line": {
             "colorbar": {
              "outlinewidth": 0,
              "ticks": ""
             }
            },
            "type": "parcoords"
           }
          ],
          "pie": [
           {
            "automargin": true,
            "type": "pie"
           }
          ],
          "scatter": [
           {
            "fillpattern": {
             "fillmode": "overlay",
             "size": 10,
             "solidity": 0.2
            },
            "type": "scatter"
           }
          ],
          "scatter3d": [
           {
            "line": {
             "colorbar": {
              "outlinewidth": 0,
              "ticks": ""
             }
            },
            "marker": {
             "colorbar": {
              "outlinewidth": 0,
              "ticks": ""
             }
            },
            "type": "scatter3d"
           }
          ],
          "scattercarpet": [
           {
            "marker": {
             "colorbar": {
              "outlinewidth": 0,
              "ticks": ""
             }
            },
            "type": "scattercarpet"
           }
          ],
          "scattergeo": [
           {
            "marker": {
             "colorbar": {
              "outlinewidth": 0,
              "ticks": ""
             }
            },
            "type": "scattergeo"
           }
          ],
          "scattergl": [
           {
            "marker": {
             "colorbar": {
              "outlinewidth": 0,
              "ticks": ""
             }
            },
            "type": "scattergl"
           }
          ],
          "scattermapbox": [
           {
            "marker": {
             "colorbar": {
              "outlinewidth": 0,
              "ticks": ""
             }
            },
            "type": "scattermapbox"
           }
          ],
          "scatterpolar": [
           {
            "marker": {
             "colorbar": {
              "outlinewidth": 0,
              "ticks": ""
             }
            },
            "type": "scatterpolar"
           }
          ],
          "scatterpolargl": [
           {
            "marker": {
             "colorbar": {
              "outlinewidth": 0,
              "ticks": ""
             }
            },
            "type": "scatterpolargl"
           }
          ],
          "scatterternary": [
           {
            "marker": {
             "colorbar": {
              "outlinewidth": 0,
              "ticks": ""
             }
            },
            "type": "scatterternary"
           }
          ],
          "surface": [
           {
            "colorbar": {
             "outlinewidth": 0,
             "ticks": ""
            },
            "colorscale": [
             [
              0,
              "#0d0887"
             ],
             [
              0.1111111111111111,
              "#46039f"
             ],
             [
              0.2222222222222222,
              "#7201a8"
             ],
             [
              0.3333333333333333,
              "#9c179e"
             ],
             [
              0.4444444444444444,
              "#bd3786"
             ],
             [
              0.5555555555555556,
              "#d8576b"
             ],
             [
              0.6666666666666666,
              "#ed7953"
             ],
             [
              0.7777777777777778,
              "#fb9f3a"
             ],
             [
              0.8888888888888888,
              "#fdca26"
             ],
             [
              1,
              "#f0f921"
             ]
            ],
            "type": "surface"
           }
          ],
          "table": [
           {
            "cells": {
             "fill": {
              "color": "#EBF0F8"
             },
             "line": {
              "color": "white"
             }
            },
            "header": {
             "fill": {
              "color": "#C8D4E3"
             },
             "line": {
              "color": "white"
             }
            },
            "type": "table"
           }
          ]
         },
         "layout": {
          "annotationdefaults": {
           "arrowcolor": "#2a3f5f",
           "arrowhead": 0,
           "arrowwidth": 1
          },
          "autotypenumbers": "strict",
          "coloraxis": {
           "colorbar": {
            "outlinewidth": 0,
            "ticks": ""
           }
          },
          "colorscale": {
           "diverging": [
            [
             0,
             "#8e0152"
            ],
            [
             0.1,
             "#c51b7d"
            ],
            [
             0.2,
             "#de77ae"
            ],
            [
             0.3,
             "#f1b6da"
            ],
            [
             0.4,
             "#fde0ef"
            ],
            [
             0.5,
             "#f7f7f7"
            ],
            [
             0.6,
             "#e6f5d0"
            ],
            [
             0.7,
             "#b8e186"
            ],
            [
             0.8,
             "#7fbc41"
            ],
            [
             0.9,
             "#4d9221"
            ],
            [
             1,
             "#276419"
            ]
           ],
           "sequential": [
            [
             0,
             "#0d0887"
            ],
            [
             0.1111111111111111,
             "#46039f"
            ],
            [
             0.2222222222222222,
             "#7201a8"
            ],
            [
             0.3333333333333333,
             "#9c179e"
            ],
            [
             0.4444444444444444,
             "#bd3786"
            ],
            [
             0.5555555555555556,
             "#d8576b"
            ],
            [
             0.6666666666666666,
             "#ed7953"
            ],
            [
             0.7777777777777778,
             "#fb9f3a"
            ],
            [
             0.8888888888888888,
             "#fdca26"
            ],
            [
             1,
             "#f0f921"
            ]
           ],
           "sequentialminus": [
            [
             0,
             "#0d0887"
            ],
            [
             0.1111111111111111,
             "#46039f"
            ],
            [
             0.2222222222222222,
             "#7201a8"
            ],
            [
             0.3333333333333333,
             "#9c179e"
            ],
            [
             0.4444444444444444,
             "#bd3786"
            ],
            [
             0.5555555555555556,
             "#d8576b"
            ],
            [
             0.6666666666666666,
             "#ed7953"
            ],
            [
             0.7777777777777778,
             "#fb9f3a"
            ],
            [
             0.8888888888888888,
             "#fdca26"
            ],
            [
             1,
             "#f0f921"
            ]
           ]
          },
          "colorway": [
           "#636efa",
           "#EF553B",
           "#00cc96",
           "#ab63fa",
           "#FFA15A",
           "#19d3f3",
           "#FF6692",
           "#B6E880",
           "#FF97FF",
           "#FECB52"
          ],
          "font": {
           "color": "#2a3f5f"
          },
          "geo": {
           "bgcolor": "white",
           "lakecolor": "white",
           "landcolor": "#E5ECF6",
           "showlakes": true,
           "showland": true,
           "subunitcolor": "white"
          },
          "hoverlabel": {
           "align": "left"
          },
          "hovermode": "closest",
          "mapbox": {
           "style": "light"
          },
          "paper_bgcolor": "white",
          "plot_bgcolor": "#E5ECF6",
          "polar": {
           "angularaxis": {
            "gridcolor": "white",
            "linecolor": "white",
            "ticks": ""
           },
           "bgcolor": "#E5ECF6",
           "radialaxis": {
            "gridcolor": "white",
            "linecolor": "white",
            "ticks": ""
           }
          },
          "scene": {
           "xaxis": {
            "backgroundcolor": "#E5ECF6",
            "gridcolor": "white",
            "gridwidth": 2,
            "linecolor": "white",
            "showbackground": true,
            "ticks": "",
            "zerolinecolor": "white"
           },
           "yaxis": {
            "backgroundcolor": "#E5ECF6",
            "gridcolor": "white",
            "gridwidth": 2,
            "linecolor": "white",
            "showbackground": true,
            "ticks": "",
            "zerolinecolor": "white"
           },
           "zaxis": {
            "backgroundcolor": "#E5ECF6",
            "gridcolor": "white",
            "gridwidth": 2,
            "linecolor": "white",
            "showbackground": true,
            "ticks": "",
            "zerolinecolor": "white"
           }
          },
          "shapedefaults": {
           "line": {
            "color": "#2a3f5f"
           }
          },
          "ternary": {
           "aaxis": {
            "gridcolor": "white",
            "linecolor": "white",
            "ticks": ""
           },
           "baxis": {
            "gridcolor": "white",
            "linecolor": "white",
            "ticks": ""
           },
           "bgcolor": "#E5ECF6",
           "caxis": {
            "gridcolor": "white",
            "linecolor": "white",
            "ticks": ""
           }
          },
          "title": {
           "x": 0.05
          },
          "xaxis": {
           "automargin": true,
           "gridcolor": "white",
           "linecolor": "white",
           "ticks": "",
           "title": {
            "standoff": 15
           },
           "zerolinecolor": "white",
           "zerolinewidth": 2
          },
          "yaxis": {
           "automargin": true,
           "gridcolor": "white",
           "linecolor": "white",
           "ticks": "",
           "title": {
            "standoff": 15
           },
           "zerolinecolor": "white",
           "zerolinewidth": 2
          }
         }
        },
        "title": {
         "text": "Disease clasification"
        },
        "width": 600,
        "xaxis": {
         "anchor": "y",
         "constrain": "domain",
         "domain": [
          0,
          1
         ],
         "scaleanchor": "y",
         "side": "bottom",
         "title": {
          "text": "Predicted"
         }
        },
        "yaxis": {
         "anchor": "x",
         "autorange": "reversed",
         "constrain": "domain",
         "domain": [
          0,
          1
         ],
         "title": {
          "text": "True"
         }
        }
       }
      }
     },
     "metadata": {},
     "output_type": "display_data"
    }
   ],
   "source": [
    "X_train, X_test, y_train, y_test = train_test_split(DATASETS[\"dataset_freq_no_enterovirus_control\"].data, DATASETS[\"dataset_freq_no_enterovirus_control\"].target, test_size=0.2, random_state=9)\n",
    "\n",
    "classifiers = [\n",
    "    #KNeighborsClassifier(n_neighbors=5, weights=\"distance\", algorithm=\"auto\", leaf_size=30, p=2, metric=\"minkowski\"),\n",
    "    RandomForestClassifier(n_estimators=10, criterion=\"gini\", max_depth=None, random_state=42, bootstrap=True),\n",
    "    RandomForestClassifier(n_estimators=10, criterion=\"entropy\", max_depth=None, random_state=43, bootstrap=True),\n",
    "    RandomForestClassifier(n_estimators=10, criterion=\"log_loss\", max_depth=None, random_state=44, bootstrap=True),\n",
    "    RandomForestClassifier(n_estimators=10, criterion=\"gini\", max_depth=None, random_state=45, bootstrap=True),\n",
    "    MLPClassifier(random_state=46, hidden_layer_sizes=([300, 200, 15]), max_iter=3000, activation=\"relu\", solver= \"adam\", verbose=False, early_stopping=False, learning_rate='adaptive', learning_rate_init=0.001, alpha=0.01,),\n",
    "    MLPClassifier(random_state=47, hidden_layer_sizes=([300, 200, 15]), max_iter=3000, activation=\"relu\", solver= \"adam\", verbose=False, early_stopping=False, learning_rate='adaptive', learning_rate_init=0.001, alpha=0.01,),\n",
    "\n",
    "]\n",
    "voting_clf = VotingClassifier(estimators=[(f\"clf_{i}\", clf) for i, clf in enumerate(classifiers)], voting=\"soft\", \n",
    "                            weights=[1,1,1,1, 1, 1], n_jobs=-1)\n",
    "\n",
    "pipeline = Pipeline([\n",
    "    (\"scaler\", StandardScaler()),\n",
    "    (\"clf\", voting_clf)\n",
    "])\n",
    "\n",
    "pipeline.fit(X_train, y_train)\n",
    "y_pred = pipeline.predict(X_test)\n",
    "print(\"TEST Accuracy: \", accuracy_score(y_test, y_pred))\n",
    "make_confusion_matrix(y_test, y_pred, voting_clf, title = \"Disease clasification\")"
   ]
  },
  {
   "cell_type": "code",
   "execution_count": 16,
   "metadata": {},
   "outputs": [
    {
     "data": {
      "application/vnd.plotly.v1+json": {
       "config": {
        "plotlyServerURL": "https://plot.ly"
       },
       "data": [
        {
         "name": "RandomForestClassifier 0",
         "type": "bar",
         "x": [
          "V5-5_J1-2",
          "V30_J1-5",
          "V20-1_J1-6",
          "V7-2_J1-2",
          "V11-2_J1-1",
          "V9_J2-7",
          "V7-9_J2-7",
          "V9_J1-2",
          "V28_J1-6",
          "V28_J2-7",
          "V28_J1-1",
          "V19_J1-5",
          "V27_J1-5",
          "V11-2_J2-7",
          "V28_J1-2",
          "V7-9_J1-2",
          "V12-3=V12-4_J1-2",
          "V12-3=V12-4_J2-7",
          "V27_J2-7",
          "V20-1_J1-1",
          "V28_J1-5",
          "V20-1_J1-4",
          "V7-8_J2-7",
          "V27_J1-1",
          "V19_J2-7",
          "V6-6_J2-7",
          "V30_J2-7",
          "V6-1_J2-7",
          "V5-5_J1-1",
          "V6-5_J2-7",
          "V5-5_J2-7",
          "V20-1_J2-7",
          "V5-6_J2-7",
          "V12-3=V12-4_J1-5",
          "V7-2_J2-7",
          "V9_J1-1",
          "V3-1_J2-7",
          "V12-3=V12-4_J1-1",
          "V5-1_J2-7",
          "V20-1_J1-2",
          "V19_J1-1",
          "V7-2_J1-1",
          "V5-6_J1-5",
          "V7-9_J1-1",
          "V11-2_J1-2",
          "V10-3_J2-7",
          "V30_J1-2",
          "V5-4_J1-2",
          "V5-6_J1-2",
          "V27_J1-2",
          "V5-1_J1-1",
          "V20-1_J1-3",
          "V5-1_J1-2",
          "V19_J1-2",
          "V5-6_J1-1",
          "V20-1_J1-5",
          "V5-4_J1-1",
          "V5-4_J2-7",
          "V30_J1-1",
          "V11-3_J2-7"
         ],
         "y": [
          0.05177311700434547,
          0.03508437115035689,
          0.033668890269059434,
          0.03332635263981429,
          0.0331892813302632,
          0.03293829572228336,
          0.031156565050981043,
          0.030884302258284972,
          0.02959217601048652,
          0.029556637561511334,
          0.028109513708043554,
          0.02742306842976879,
          0.02408819591485954,
          0.02402208204075374,
          0.02180682118161586,
          0.021527967257962077,
          0.0206342522177916,
          0.01992930162270824,
          0.01979219503254966,
          0.019614757933047216,
          0.019368668558211073,
          0.019359665202728873,
          0.019026931026817257,
          0.017992736530525986,
          0.01781178859167114,
          0.017565125976008372,
          0.01686355600694399,
          0.01562729313487577,
          0.015491187333321702,
          0.015339834648315832,
          0.015324731976465176,
          0.014939791665050588,
          0.014563906252844285,
          0.014068759270594111,
          0.013951112087940204,
          0.01325193100454812,
          0.01257051574895407,
          0.012318925671741029,
          0.011490427804894513,
          0.010542827231042187,
          0.010234037197286374,
          0.010110599858924794,
          0.008781709315104644,
          0.008671339953379598,
          0.007736737818141959,
          0.007673251213424938,
          0.007474204540163473,
          0.0072134524450171615,
          0.006923556945723425,
          0.0065606135501104276,
          0.00653328186942642,
          0.006006773495580417,
          0.005372807017543864,
          0.005289006090190981,
          0.005111971265884009,
          0.004872489229090281,
          0.004142428439519852,
          0.0029836682208042643,
          0.001695422664287983,
          0.00102478881041407
         ]
        },
        {
         "name": "RandomForestClassifier 1",
         "type": "bar",
         "x": [
          "V27_J2-7",
          "V19_J1-1",
          "V20-1_J2-7",
          "V30_J1-5",
          "V9_J2-7",
          "V30_J2-7",
          "V28_J1-1",
          "V5-1_J1-1",
          "V20-1_J1-2",
          "V7-2_J1-1",
          "V28_J2-7",
          "V30_J1-1",
          "V28_J1-6",
          "V30_J1-2",
          "V27_J1-5",
          "V11-2_J1-1",
          "V5-6_J2-7",
          "V5-5_J1-2",
          "V5-5_J2-7",
          "V19_J2-7",
          "V5-6_J1-5",
          "V28_J1-2",
          "V12-3=V12-4_J2-7",
          "V3-1_J2-7",
          "V19_J1-2",
          "V5-1_J2-7",
          "V7-2_J1-2",
          "V5-6_J1-2",
          "V9_J1-1",
          "V20-1_J1-5",
          "V28_J1-5",
          "V19_J1-5",
          "V12-3=V12-4_J1-1",
          "V12-3=V12-4_J1-5",
          "V5-4_J1-1",
          "V7-2_J2-7",
          "V5-6_J1-1",
          "V6-5_J2-7",
          "V5-4_J2-7",
          "V20-1_J1-3",
          "V7-9_J1-2",
          "V27_J1-1",
          "V20-1_J1-6",
          "V5-5_J1-1",
          "V20-1_J1-4",
          "V7-9_J2-7",
          "V20-1_J1-1",
          "V6-1_J2-7",
          "V5-4_J1-2",
          "V5-1_J1-2",
          "V11-2_J1-2",
          "V9_J1-2",
          "V6-6_J2-7",
          "V12-3=V12-4_J1-2",
          "V10-3_J2-7",
          "V7-8_J2-7",
          "V11-3_J2-7",
          "V11-2_J2-7",
          "V7-9_J1-1",
          "V27_J1-2"
         ],
         "y": [
          0.04729316004177936,
          0.04567029731203853,
          0.043124837937337804,
          0.04075242354005014,
          0.04012295753708384,
          0.033022583586362765,
          0.03253618477060932,
          0.031679546676031775,
          0.031040289819543286,
          0.029368860371600053,
          0.028099747573651107,
          0.027159560094586727,
          0.02677756665575153,
          0.026303069989554277,
          0.025232006833731186,
          0.0228233128126935,
          0.019346758800595394,
          0.01887543815447859,
          0.018650487015912588,
          0.018259309168364816,
          0.018081332518323594,
          0.017673108933563046,
          0.017316993977933,
          0.017196473781810946,
          0.016712204170372114,
          0.016128788055634218,
          0.01612081044915258,
          0.014447634523892009,
          0.014356292688827706,
          0.014329181174664838,
          0.013372198690699787,
          0.012978362519769113,
          0.012131530102476494,
          0.012000350641348462,
          0.011581328253480285,
          0.011431842184927798,
          0.010143316912670872,
          0.009700929100588927,
          0.009623058584611374,
          0.009518131060414095,
          0.009466780071901987,
          0.009000904612697458,
          0.008936004720783732,
          0.008802624523428188,
          0.008146440894150595,
          0.007999298061997806,
          0.0076379399002089055,
          0.007421495580368365,
          0.0061730483844091135,
          0.006086124163026256,
          0.0057372797137165655,
          0.005579858072316585,
          0.0053634580886281254,
          0.005230533435448112,
          0.0045723182418455285,
          0.0042386763967954015,
          0.003969370771417813,
          0.002561958606006274,
          0.0020936187439353432,
          0
         ]
        },
        {
         "name": "RandomForestClassifier 2",
         "type": "bar",
         "x": [
          "V28_J2-7",
          "V19_J1-1",
          "V30_J1-1",
          "V30_J1-5",
          "V28_J1-1",
          "V20-1_J2-7",
          "V30_J1-2",
          "V5-6_J1-5",
          "V7-2_J1-1",
          "V7-2_J1-2",
          "V7-8_J2-7",
          "V9_J2-7",
          "V9_J1-2",
          "V27_J2-7",
          "V10-3_J2-7",
          "V12-3=V12-4_J1-1",
          "V6-1_J2-7",
          "V20-1_J1-6",
          "V5-6_J1-2",
          "V12-3=V12-4_J2-7",
          "V7-2_J2-7",
          "V7-9_J1-1",
          "V9_J1-1",
          "V5-1_J2-7",
          "V11-2_J1-2",
          "V20-1_J1-1",
          "V5-1_J1-1",
          "V5-6_J2-7",
          "V5-4_J2-7",
          "V11-3_J2-7",
          "V5-5_J1-1",
          "V5-5_J2-7",
          "V19_J1-2",
          "V3-1_J2-7",
          "V6-6_J2-7",
          "V20-1_J1-4",
          "V20-1_J1-2",
          "V12-3=V12-4_J1-5",
          "V27_J1-5",
          "V5-5_J1-2",
          "V27_J1-1",
          "V5-4_J1-1",
          "V5-1_J1-2",
          "V19_J1-5",
          "V30_J2-7",
          "V7-9_J1-2",
          "V28_J1-5",
          "V11-2_J1-1",
          "V11-2_J2-7",
          "V5-6_J1-1",
          "V28_J1-6",
          "V19_J2-7",
          "V20-1_J1-5",
          "V5-4_J1-2",
          "V28_J1-2",
          "V7-9_J2-7",
          "V6-5_J2-7",
          "V20-1_J1-3",
          "V12-3=V12-4_J1-2",
          "V27_J1-2"
         ],
         "y": [
          0.04873782783109866,
          0.04272478576144339,
          0.03926091399392402,
          0.038331377479775997,
          0.0362552099518765,
          0.03565335640363532,
          0.03538227255879387,
          0.033172548834981545,
          0.031813603458072985,
          0.030272970810840027,
          0.025967841337856217,
          0.024693843134108613,
          0.02240188014980978,
          0.02223004974386193,
          0.02066490694814958,
          0.02035722543753764,
          0.019965100955370484,
          0.01995749926471001,
          0.019244698035995385,
          0.01901301311229219,
          0.0177545666481071,
          0.016742609534558896,
          0.016334525322776357,
          0.016094213275971297,
          0.015891325484072027,
          0.015713293229310737,
          0.015632138977986612,
          0.014652371758970151,
          0.014351912258242791,
          0.014190749396083951,
          0.014144532155169176,
          0.013074148627389393,
          0.012667638105312972,
          0.012594860545223185,
          0.011813466361051971,
          0.011316454487814183,
          0.011307216001876131,
          0.011168508529404696,
          0.010864547583584471,
          0.010577519903856695,
          0.010158000671087245,
          0.009815304671465278,
          0.009809668204860069,
          0.009612237797574582,
          0.00902116716834544,
          0.008573276413182108,
          0.008562884476601673,
          0.00848266464707512,
          0.008095349629978746,
          0.007764536421423511,
          0.0076452093841737345,
          0.007236024269184282,
          0.006519431492044378,
          0.005365088916185302,
          0.0053160999530782625,
          0.0051837811605241375,
          0.003743160593830545,
          0.0034709629351901174,
          0.002637627803298485,
          0
         ]
        },
        {
         "name": "RandomForestClassifier 3",
         "type": "bar",
         "x": [
          "V9_J2-7",
          "V9_J1-2",
          "V30_J1-1",
          "V7-2_J1-1",
          "V5-5_J1-2",
          "V28_J1-5",
          "V28_J2-7",
          "V27_J2-7",
          "V30_J1-2",
          "V30_J2-7",
          "V20-1_J1-6",
          "V5-6_J1-2",
          "V28_J1-1",
          "V12-3=V12-4_J2-7",
          "V20-1_J1-4",
          "V5-5_J2-7",
          "V5-4_J1-2",
          "V11-2_J1-2",
          "V6-6_J2-7",
          "V20-1_J2-7",
          "V30_J1-5",
          "V20-1_J1-5",
          "V27_J1-5",
          "V28_J1-2",
          "V7-9_J2-7",
          "V10-3_J2-7",
          "V7-2_J1-2",
          "V20-1_J1-1",
          "V11-2_J1-1",
          "V12-3=V12-4_J1-5",
          "V28_J1-6",
          "V5-5_J1-1",
          "V5-6_J2-7",
          "V5-6_J1-5",
          "V27_J1-2",
          "V12-3=V12-4_J1-1",
          "V7-2_J2-7",
          "V5-1_J1-2",
          "V19_J1-1",
          "V7-8_J2-7",
          "V19_J1-5",
          "V11-2_J2-7",
          "V5-4_J1-1",
          "V7-9_J1-1",
          "V5-1_J1-1",
          "V27_J1-1",
          "V19_J1-2",
          "V19_J2-7",
          "V11-3_J2-7",
          "V20-1_J1-3",
          "V20-1_J1-2",
          "V6-5_J2-7",
          "V7-9_J1-2",
          "V12-3=V12-4_J1-2",
          "V5-1_J2-7",
          "V5-6_J1-1",
          "V9_J1-1",
          "V6-1_J2-7",
          "V3-1_J2-7",
          "V5-4_J2-7"
         ],
         "y": [
          0.0419078673393081,
          0.03907556643074236,
          0.036357594013841796,
          0.03424448442979895,
          0.0336788271087361,
          0.033210385511196636,
          0.030104725774202017,
          0.029287853542104912,
          0.028997415663274507,
          0.027768606835440912,
          0.02482128604576609,
          0.023577138181328294,
          0.02344538313367105,
          0.021935549105606487,
          0.0218809192000451,
          0.021651896439495336,
          0.021649812690686478,
          0.02158240118674983,
          0.021037449243089153,
          0.02087802889154148,
          0.020339317923225263,
          0.019580858205899037,
          0.019338515446333783,
          0.018962066790179765,
          0.01819582320577253,
          0.017615128261094775,
          0.017455805227178153,
          0.01718199873546012,
          0.01686729048988691,
          0.016247187150696778,
          0.015927415721133664,
          0.01580043723058044,
          0.01468768392937755,
          0.014475755050531492,
          0.01361317847750892,
          0.01273855788074178,
          0.011426422926072302,
          0.01138763642062898,
          0.011307112694960274,
          0.010932008986553358,
          0.010734746636996383,
          0.010594989576478291,
          0.010561493705419466,
          0.010341039716011855,
          0.009816941230922211,
          0.009814734015831512,
          0.009673207486014855,
          0.009501835390813586,
          0.009174308734087637,
          0.006965678249909587,
          0.006568565032887908,
          0.005628338654245729,
          0.004626232254885547,
          0.0042122150256702065,
          0.0038393025659461655,
          0.0030908825527613806,
          0.0019403474270730911,
          0.0017417502236030692,
          0,
          0
         ]
        }
       ],
       "layout": {
        "barmode": "group",
        "legend": {
         "title": {
          "text": "Classifiers"
         }
        },
        "template": {
         "data": {
          "bar": [
           {
            "error_x": {
             "color": "#2a3f5f"
            },
            "error_y": {
             "color": "#2a3f5f"
            },
            "marker": {
             "line": {
              "color": "#E5ECF6",
              "width": 0.5
             },
             "pattern": {
              "fillmode": "overlay",
              "size": 10,
              "solidity": 0.2
             }
            },
            "type": "bar"
           }
          ],
          "barpolar": [
           {
            "marker": {
             "line": {
              "color": "#E5ECF6",
              "width": 0.5
             },
             "pattern": {
              "fillmode": "overlay",
              "size": 10,
              "solidity": 0.2
             }
            },
            "type": "barpolar"
           }
          ],
          "carpet": [
           {
            "aaxis": {
             "endlinecolor": "#2a3f5f",
             "gridcolor": "white",
             "linecolor": "white",
             "minorgridcolor": "white",
             "startlinecolor": "#2a3f5f"
            },
            "baxis": {
             "endlinecolor": "#2a3f5f",
             "gridcolor": "white",
             "linecolor": "white",
             "minorgridcolor": "white",
             "startlinecolor": "#2a3f5f"
            },
            "type": "carpet"
           }
          ],
          "choropleth": [
           {
            "colorbar": {
             "outlinewidth": 0,
             "ticks": ""
            },
            "type": "choropleth"
           }
          ],
          "contour": [
           {
            "colorbar": {
             "outlinewidth": 0,
             "ticks": ""
            },
            "colorscale": [
             [
              0,
              "#0d0887"
             ],
             [
              0.1111111111111111,
              "#46039f"
             ],
             [
              0.2222222222222222,
              "#7201a8"
             ],
             [
              0.3333333333333333,
              "#9c179e"
             ],
             [
              0.4444444444444444,
              "#bd3786"
             ],
             [
              0.5555555555555556,
              "#d8576b"
             ],
             [
              0.6666666666666666,
              "#ed7953"
             ],
             [
              0.7777777777777778,
              "#fb9f3a"
             ],
             [
              0.8888888888888888,
              "#fdca26"
             ],
             [
              1,
              "#f0f921"
             ]
            ],
            "type": "contour"
           }
          ],
          "contourcarpet": [
           {
            "colorbar": {
             "outlinewidth": 0,
             "ticks": ""
            },
            "type": "contourcarpet"
           }
          ],
          "heatmap": [
           {
            "colorbar": {
             "outlinewidth": 0,
             "ticks": ""
            },
            "colorscale": [
             [
              0,
              "#0d0887"
             ],
             [
              0.1111111111111111,
              "#46039f"
             ],
             [
              0.2222222222222222,
              "#7201a8"
             ],
             [
              0.3333333333333333,
              "#9c179e"
             ],
             [
              0.4444444444444444,
              "#bd3786"
             ],
             [
              0.5555555555555556,
              "#d8576b"
             ],
             [
              0.6666666666666666,
              "#ed7953"
             ],
             [
              0.7777777777777778,
              "#fb9f3a"
             ],
             [
              0.8888888888888888,
              "#fdca26"
             ],
             [
              1,
              "#f0f921"
             ]
            ],
            "type": "heatmap"
           }
          ],
          "heatmapgl": [
           {
            "colorbar": {
             "outlinewidth": 0,
             "ticks": ""
            },
            "colorscale": [
             [
              0,
              "#0d0887"
             ],
             [
              0.1111111111111111,
              "#46039f"
             ],
             [
              0.2222222222222222,
              "#7201a8"
             ],
             [
              0.3333333333333333,
              "#9c179e"
             ],
             [
              0.4444444444444444,
              "#bd3786"
             ],
             [
              0.5555555555555556,
              "#d8576b"
             ],
             [
              0.6666666666666666,
              "#ed7953"
             ],
             [
              0.7777777777777778,
              "#fb9f3a"
             ],
             [
              0.8888888888888888,
              "#fdca26"
             ],
             [
              1,
              "#f0f921"
             ]
            ],
            "type": "heatmapgl"
           }
          ],
          "histogram": [
           {
            "marker": {
             "pattern": {
              "fillmode": "overlay",
              "size": 10,
              "solidity": 0.2
             }
            },
            "type": "histogram"
           }
          ],
          "histogram2d": [
           {
            "colorbar": {
             "outlinewidth": 0,
             "ticks": ""
            },
            "colorscale": [
             [
              0,
              "#0d0887"
             ],
             [
              0.1111111111111111,
              "#46039f"
             ],
             [
              0.2222222222222222,
              "#7201a8"
             ],
             [
              0.3333333333333333,
              "#9c179e"
             ],
             [
              0.4444444444444444,
              "#bd3786"
             ],
             [
              0.5555555555555556,
              "#d8576b"
             ],
             [
              0.6666666666666666,
              "#ed7953"
             ],
             [
              0.7777777777777778,
              "#fb9f3a"
             ],
             [
              0.8888888888888888,
              "#fdca26"
             ],
             [
              1,
              "#f0f921"
             ]
            ],
            "type": "histogram2d"
           }
          ],
          "histogram2dcontour": [
           {
            "colorbar": {
             "outlinewidth": 0,
             "ticks": ""
            },
            "colorscale": [
             [
              0,
              "#0d0887"
             ],
             [
              0.1111111111111111,
              "#46039f"
             ],
             [
              0.2222222222222222,
              "#7201a8"
             ],
             [
              0.3333333333333333,
              "#9c179e"
             ],
             [
              0.4444444444444444,
              "#bd3786"
             ],
             [
              0.5555555555555556,
              "#d8576b"
             ],
             [
              0.6666666666666666,
              "#ed7953"
             ],
             [
              0.7777777777777778,
              "#fb9f3a"
             ],
             [
              0.8888888888888888,
              "#fdca26"
             ],
             [
              1,
              "#f0f921"
             ]
            ],
            "type": "histogram2dcontour"
           }
          ],
          "mesh3d": [
           {
            "colorbar": {
             "outlinewidth": 0,
             "ticks": ""
            },
            "type": "mesh3d"
           }
          ],
          "parcoords": [
           {
            "line": {
             "colorbar": {
              "outlinewidth": 0,
              "ticks": ""
             }
            },
            "type": "parcoords"
           }
          ],
          "pie": [
           {
            "automargin": true,
            "type": "pie"
           }
          ],
          "scatter": [
           {
            "fillpattern": {
             "fillmode": "overlay",
             "size": 10,
             "solidity": 0.2
            },
            "type": "scatter"
           }
          ],
          "scatter3d": [
           {
            "line": {
             "colorbar": {
              "outlinewidth": 0,
              "ticks": ""
             }
            },
            "marker": {
             "colorbar": {
              "outlinewidth": 0,
              "ticks": ""
             }
            },
            "type": "scatter3d"
           }
          ],
          "scattercarpet": [
           {
            "marker": {
             "colorbar": {
              "outlinewidth": 0,
              "ticks": ""
             }
            },
            "type": "scattercarpet"
           }
          ],
          "scattergeo": [
           {
            "marker": {
             "colorbar": {
              "outlinewidth": 0,
              "ticks": ""
             }
            },
            "type": "scattergeo"
           }
          ],
          "scattergl": [
           {
            "marker": {
             "colorbar": {
              "outlinewidth": 0,
              "ticks": ""
             }
            },
            "type": "scattergl"
           }
          ],
          "scattermapbox": [
           {
            "marker": {
             "colorbar": {
              "outlinewidth": 0,
              "ticks": ""
             }
            },
            "type": "scattermapbox"
           }
          ],
          "scatterpolar": [
           {
            "marker": {
             "colorbar": {
              "outlinewidth": 0,
              "ticks": ""
             }
            },
            "type": "scatterpolar"
           }
          ],
          "scatterpolargl": [
           {
            "marker": {
             "colorbar": {
              "outlinewidth": 0,
              "ticks": ""
             }
            },
            "type": "scatterpolargl"
           }
          ],
          "scatterternary": [
           {
            "marker": {
             "colorbar": {
              "outlinewidth": 0,
              "ticks": ""
             }
            },
            "type": "scatterternary"
           }
          ],
          "surface": [
           {
            "colorbar": {
             "outlinewidth": 0,
             "ticks": ""
            },
            "colorscale": [
             [
              0,
              "#0d0887"
             ],
             [
              0.1111111111111111,
              "#46039f"
             ],
             [
              0.2222222222222222,
              "#7201a8"
             ],
             [
              0.3333333333333333,
              "#9c179e"
             ],
             [
              0.4444444444444444,
              "#bd3786"
             ],
             [
              0.5555555555555556,
              "#d8576b"
             ],
             [
              0.6666666666666666,
              "#ed7953"
             ],
             [
              0.7777777777777778,
              "#fb9f3a"
             ],
             [
              0.8888888888888888,
              "#fdca26"
             ],
             [
              1,
              "#f0f921"
             ]
            ],
            "type": "surface"
           }
          ],
          "table": [
           {
            "cells": {
             "fill": {
              "color": "#EBF0F8"
             },
             "line": {
              "color": "white"
             }
            },
            "header": {
             "fill": {
              "color": "#C8D4E3"
             },
             "line": {
              "color": "white"
             }
            },
            "type": "table"
           }
          ]
         },
         "layout": {
          "annotationdefaults": {
           "arrowcolor": "#2a3f5f",
           "arrowhead": 0,
           "arrowwidth": 1
          },
          "autotypenumbers": "strict",
          "coloraxis": {
           "colorbar": {
            "outlinewidth": 0,
            "ticks": ""
           }
          },
          "colorscale": {
           "diverging": [
            [
             0,
             "#8e0152"
            ],
            [
             0.1,
             "#c51b7d"
            ],
            [
             0.2,
             "#de77ae"
            ],
            [
             0.3,
             "#f1b6da"
            ],
            [
             0.4,
             "#fde0ef"
            ],
            [
             0.5,
             "#f7f7f7"
            ],
            [
             0.6,
             "#e6f5d0"
            ],
            [
             0.7,
             "#b8e186"
            ],
            [
             0.8,
             "#7fbc41"
            ],
            [
             0.9,
             "#4d9221"
            ],
            [
             1,
             "#276419"
            ]
           ],
           "sequential": [
            [
             0,
             "#0d0887"
            ],
            [
             0.1111111111111111,
             "#46039f"
            ],
            [
             0.2222222222222222,
             "#7201a8"
            ],
            [
             0.3333333333333333,
             "#9c179e"
            ],
            [
             0.4444444444444444,
             "#bd3786"
            ],
            [
             0.5555555555555556,
             "#d8576b"
            ],
            [
             0.6666666666666666,
             "#ed7953"
            ],
            [
             0.7777777777777778,
             "#fb9f3a"
            ],
            [
             0.8888888888888888,
             "#fdca26"
            ],
            [
             1,
             "#f0f921"
            ]
           ],
           "sequentialminus": [
            [
             0,
             "#0d0887"
            ],
            [
             0.1111111111111111,
             "#46039f"
            ],
            [
             0.2222222222222222,
             "#7201a8"
            ],
            [
             0.3333333333333333,
             "#9c179e"
            ],
            [
             0.4444444444444444,
             "#bd3786"
            ],
            [
             0.5555555555555556,
             "#d8576b"
            ],
            [
             0.6666666666666666,
             "#ed7953"
            ],
            [
             0.7777777777777778,
             "#fb9f3a"
            ],
            [
             0.8888888888888888,
             "#fdca26"
            ],
            [
             1,
             "#f0f921"
            ]
           ]
          },
          "colorway": [
           "#636efa",
           "#EF553B",
           "#00cc96",
           "#ab63fa",
           "#FFA15A",
           "#19d3f3",
           "#FF6692",
           "#B6E880",
           "#FF97FF",
           "#FECB52"
          ],
          "font": {
           "color": "#2a3f5f"
          },
          "geo": {
           "bgcolor": "white",
           "lakecolor": "white",
           "landcolor": "#E5ECF6",
           "showlakes": true,
           "showland": true,
           "subunitcolor": "white"
          },
          "hoverlabel": {
           "align": "left"
          },
          "hovermode": "closest",
          "mapbox": {
           "style": "light"
          },
          "paper_bgcolor": "white",
          "plot_bgcolor": "#E5ECF6",
          "polar": {
           "angularaxis": {
            "gridcolor": "white",
            "linecolor": "white",
            "ticks": ""
           },
           "bgcolor": "#E5ECF6",
           "radialaxis": {
            "gridcolor": "white",
            "linecolor": "white",
            "ticks": ""
           }
          },
          "scene": {
           "xaxis": {
            "backgroundcolor": "#E5ECF6",
            "gridcolor": "white",
            "gridwidth": 2,
            "linecolor": "white",
            "showbackground": true,
            "ticks": "",
            "zerolinecolor": "white"
           },
           "yaxis": {
            "backgroundcolor": "#E5ECF6",
            "gridcolor": "white",
            "gridwidth": 2,
            "linecolor": "white",
            "showbackground": true,
            "ticks": "",
            "zerolinecolor": "white"
           },
           "zaxis": {
            "backgroundcolor": "#E5ECF6",
            "gridcolor": "white",
            "gridwidth": 2,
            "linecolor": "white",
            "showbackground": true,
            "ticks": "",
            "zerolinecolor": "white"
           }
          },
          "shapedefaults": {
           "line": {
            "color": "#2a3f5f"
           }
          },
          "ternary": {
           "aaxis": {
            "gridcolor": "white",
            "linecolor": "white",
            "ticks": ""
           },
           "baxis": {
            "gridcolor": "white",
            "linecolor": "white",
            "ticks": ""
           },
           "bgcolor": "#E5ECF6",
           "caxis": {
            "gridcolor": "white",
            "linecolor": "white",
            "ticks": ""
           }
          },
          "title": {
           "x": 0.05
          },
          "xaxis": {
           "automargin": true,
           "gridcolor": "white",
           "linecolor": "white",
           "ticks": "",
           "title": {
            "standoff": 15
           },
           "zerolinecolor": "white",
           "zerolinewidth": 2
          },
          "yaxis": {
           "automargin": true,
           "gridcolor": "white",
           "linecolor": "white",
           "ticks": "",
           "title": {
            "standoff": 15
           },
           "zerolinecolor": "white",
           "zerolinewidth": 2
          }
         }
        },
        "title": {
         "text": "Feature importances for each classifier"
        },
        "xaxis": {
         "tickangle": 45,
         "title": {
          "text": "Feature"
         }
        },
        "yaxis": {
         "title": {
          "text": "Importance"
         }
        }
       }
      }
     },
     "metadata": {},
     "output_type": "display_data"
    }
   ],
   "source": [
    "# display forrest feature importances\n",
    "\n",
    "fig = go.Figure()\n",
    "for i, clf in enumerate(voting_clf.estimators_[:4]):\n",
    "    importances = clf.feature_importances_\n",
    "    indices = np.argsort(importances)[::-1]\n",
    "    fig.add_trace(go.Bar(x=DATASETS[\"dataset_freq_no_enterovirus_control\"].data.columns[indices], y=importances[indices], name=f\"{clf.__class__.__name__} {i}\"))\n",
    "\n",
    "fig.update_layout(barmode='group')\n",
    "fig.update_layout(title=\"Feature importances for each classifier\")\n",
    "fig.update_yaxes(title=\"Importance\")\n",
    "fig.update_xaxes(title=\"Feature\")\n",
    "fig.update_layout(legend_title_text='Classifiers')\n",
    "\n",
    "fig.update_xaxes(tickangle=45)\n",
    "fig.show()"
   ]
  }
 ],
 "metadata": {
  "kernelspec": {
   "display_name": "Python 3",
   "language": "python",
   "name": "python3"
  },
  "language_info": {
   "codemirror_mode": {
    "name": "ipython",
    "version": 3
   },
   "file_extension": ".py",
   "mimetype": "text/x-python",
   "name": "python",
   "nbconvert_exporter": "python",
   "pygments_lexer": "ipython3",
   "version": "3.11.2"
  }
 },
 "nbformat": 4,
 "nbformat_minor": 2
}
